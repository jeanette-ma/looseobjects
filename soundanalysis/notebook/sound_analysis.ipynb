{
 "cells": [
  {
   "cell_type": "markdown",
   "id": "7a1069b9",
   "metadata": {},
   "source": [
    "# Sound Analysis\n",
    "\n",
    "A notebook to try out some code to:\n",
    "\n",
    "1. Analyse sound data.\n",
    "2. If possible, come up with a function that detect bolts sounds."
   ]
  }
 ],
 "metadata": {
  "kernelspec": {
   "display_name": "soundanalysis",
   "language": "python",
   "name": "soundanalysis"
  },
  "language_info": {
   "codemirror_mode": {
    "name": "ipython",
    "version": 3
   },
   "file_extension": ".py",
   "mimetype": "text/x-python",
   "name": "python",
   "nbconvert_exporter": "python",
   "pygments_lexer": "ipython3",
   "version": "3.9.4"
  }
 },
 "nbformat": 4,
 "nbformat_minor": 5
}
